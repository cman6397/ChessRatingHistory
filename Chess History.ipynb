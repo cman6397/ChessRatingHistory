{
 "cells": [
  {
   "cell_type": "code",
   "execution_count": 1,
   "metadata": {},
   "outputs": [],
   "source": [
    "import chessdotcom\n",
    "import datetime\n",
    "import plotly.express as px\n",
    "import pandas as pd"
   ]
  },
  {
   "cell_type": "code",
   "execution_count": 2,
   "metadata": {},
   "outputs": [],
   "source": [
    "USERNAMES = ['<your_username>', '<your_username>', '<your_username>']\n",
    "START_YEAR = 2014\n",
    "END_YEAR = 2020\n",
    "MOVING_AVERAGE_WINDOW_GAMES = 1000"
   ]
  },
  {
   "cell_type": "code",
   "execution_count": 3,
   "metadata": {},
   "outputs": [],
   "source": [
    "def get_games(usernames, start_year: int, end_year: int):\n",
    "    games = []\n",
    "    for username in usernames:\n",
    "        for year in range(start_year, end_year + 1):\n",
    "            for month in range(1, 13):\n",
    "                monthly_games = chessdotcom.caller.get_player_games_by_month(username, year=year, month=month)\n",
    "                games.extend(monthly_games.json['games'])\n",
    "                # print(f\"Games for Year: {year}, Month: {month}, User: {username} retrieved\")\n",
    "    return games\n",
    "\n",
    "def game_dict(game: dict, usernames: str, time_format='blitz', rules='chess'):\n",
    "    if game['white']['username'] in usernames:\n",
    "        rating = game['white']['rating']\n",
    "    else:\n",
    "        rating = game['black']['rating']\n",
    "    \n",
    "    if game['time_class'] != time_format or game['rules'] != rules:\n",
    "        return {}\n",
    "    \n",
    "    game_dict = {\n",
    "        'time': pd.to_datetime(game['end_time'], unit='s'),\n",
    "        'rating': rating,\n",
    "        'format': game['time_class']\n",
    "    }\n",
    "    return game_dict\n",
    "\n",
    "def plot_games(game_df: pd.DataFrame):\n",
    "    fig = px.line(game_df, x=\"time\", y=\"Moving Average\", title='Chess Rating Over Time')\n",
    "    fig.show()\n",
    "\n",
    "def create_game_plot():\n",
    "    games = get_games(USERNAMES, START_YEAR, END_YEAR)\n",
    "    game_df = pd.DataFrame([game_dict(game, USERNAMES) for game in games if game_dict(game, USERNAMES)])\n",
    "    game_df.sort_values(by='time', inplace=True)\n",
    "    game_df['Moving Average'] = game_df.rolling(window=MOVING_AVERAGE_WINDOW_GAMES).mean()\n",
    "    plot_games(game_df)\n"
   ]
  },
  {
   "cell_type": "code",
   "execution_count": 5,
   "metadata": {},
   "outputs": [],
   "source": [
    "create_game_plot()"
   ]
  },
  {
   "cell_type": "code",
   "execution_count": null,
   "metadata": {},
   "outputs": [],
   "source": []
  }
 ],
 "metadata": {
  "kernelspec": {
   "display_name": "Python 3",
   "language": "python",
   "name": "python3"
  },
  "language_info": {
   "codemirror_mode": {
    "name": "ipython",
    "version": 3
   },
   "file_extension": ".py",
   "mimetype": "text/x-python",
   "name": "python",
   "nbconvert_exporter": "python",
   "pygments_lexer": "ipython3",
   "version": "3.8.3"
  }
 },
 "nbformat": 4,
 "nbformat_minor": 4
}
